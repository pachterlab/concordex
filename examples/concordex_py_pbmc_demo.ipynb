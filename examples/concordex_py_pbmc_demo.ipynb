{
 "cells": [
  {
   "cell_type": "markdown",
   "metadata": {},
   "source": [
    "## Install concordex"
   ]
  },
  {
   "cell_type": "code",
   "execution_count": 1,
   "metadata": {
    "colab": {
     "base_uri": "https://localhost:8080/"
    },
    "id": "pPgFOM-reZJN",
    "outputId": "2549548d-4b73-4740-d1a2-99b5a6a65da7"
   },
   "outputs": [
    {
     "name": "stdout",
     "output_type": "stream",
     "text": [
      "Requirement already satisfied: concordex in /Users/kaylajackson/anaconda3/envs/concordex-test/lib/python3.12/site-packages (1.0.0)\n",
      "Requirement already satisfied: anndata>=0.8 in /Users/kaylajackson/anaconda3/envs/concordex-test/lib/python3.12/site-packages (from concordex) (0.10.9)\n",
      "Requirement already satisfied: numpy>=1.23 in /Users/kaylajackson/anaconda3/envs/concordex-test/lib/python3.12/site-packages (from concordex) (2.0.2)\n",
      "Requirement already satisfied: pandas>=1.5 in /Users/kaylajackson/anaconda3/envs/concordex-test/lib/python3.12/site-packages (from concordex) (2.2.2)\n",
      "Requirement already satisfied: scikit-learn>=0.24 in /Users/kaylajackson/anaconda3/envs/concordex-test/lib/python3.12/site-packages (from concordex) (1.5.1)\n",
      "Requirement already satisfied: array-api-compat!=1.5,>1.4 in /Users/kaylajackson/anaconda3/envs/concordex-test/lib/python3.12/site-packages (from anndata>=0.8->concordex) (1.8)\n",
      "Requirement already satisfied: h5py>=3.1 in /Users/kaylajackson/anaconda3/envs/concordex-test/lib/python3.12/site-packages (from anndata>=0.8->concordex) (3.11.0)\n",
      "Requirement already satisfied: natsort in /Users/kaylajackson/anaconda3/envs/concordex-test/lib/python3.12/site-packages (from anndata>=0.8->concordex) (8.4.0)\n",
      "Requirement already satisfied: packaging>=20.0 in /Users/kaylajackson/anaconda3/envs/concordex-test/lib/python3.12/site-packages (from anndata>=0.8->concordex) (24.1)\n",
      "Requirement already satisfied: scipy>1.8 in /Users/kaylajackson/anaconda3/envs/concordex-test/lib/python3.12/site-packages (from anndata>=0.8->concordex) (1.14.1)\n",
      "Requirement already satisfied: python-dateutil>=2.8.2 in /Users/kaylajackson/anaconda3/envs/concordex-test/lib/python3.12/site-packages (from pandas>=1.5->concordex) (2.9.0)\n",
      "Requirement already satisfied: pytz>=2020.1 in /Users/kaylajackson/anaconda3/envs/concordex-test/lib/python3.12/site-packages (from pandas>=1.5->concordex) (2024.1)\n",
      "Requirement already satisfied: tzdata>=2022.7 in /Users/kaylajackson/anaconda3/envs/concordex-test/lib/python3.12/site-packages (from pandas>=1.5->concordex) (2024.1)\n",
      "Requirement already satisfied: joblib>=1.2.0 in /Users/kaylajackson/anaconda3/envs/concordex-test/lib/python3.12/site-packages (from scikit-learn>=0.24->concordex) (1.4.2)\n",
      "Requirement already satisfied: threadpoolctl>=3.1.0 in /Users/kaylajackson/anaconda3/envs/concordex-test/lib/python3.12/site-packages (from scikit-learn>=0.24->concordex) (3.5.0)\n",
      "Requirement already satisfied: six>=1.5 in /Users/kaylajackson/anaconda3/envs/concordex-test/lib/python3.12/site-packages (from python-dateutil>=2.8.2->pandas>=1.5->concordex) (1.16.0)\n"
     ]
    }
   ],
   "source": [
    "# !pip install anndata\n",
    "# !pip3 install scanpy\n",
    "!pip3 install concordex"
   ]
  },
  {
   "cell_type": "code",
   "execution_count": 2,
   "metadata": {
    "id": "dpfhvyjafJo3"
   },
   "outputs": [],
   "source": [
    "# Import libraries\n",
    "import numpy as np\n",
    "import pandas as pd\n",
    "\n",
    "import seaborn as sns\n",
    "import scanpy as sc\n",
    "import anndata\n",
    "\n",
    "from concordex.tools import calculate_concordex\n",
    "\n",
    "import session_info"
   ]
  },
  {
   "cell_type": "markdown",
   "metadata": {},
   "source": [
    "## Load dataset\n",
    "\n",
    "For this demonstration of the nonspatial applications of concordex, we will be using the processed [PBMC dataset](https://www.10xgenomics.com/datasets/fresh-68-k-pbm-cs-donor-a-1-standard-1-1-0) from 10x Genomics. This dataset is available using the `scanpy.datasets` interface. "
   ]
  },
  {
   "cell_type": "code",
   "execution_count": 3,
   "metadata": {
    "id": "KnzLTX-EhF9w"
   },
   "outputs": [],
   "source": [
    "ad = sc.datasets.pbmc68k_reduced()"
   ]
  },
  {
   "cell_type": "markdown",
   "metadata": {},
   "source": [
    "## Compute `concordex`"
   ]
  },
  {
   "cell_type": "markdown",
   "metadata": {},
   "source": [
    "`concordex` computes a Neighborhood Consolidation Matrix (NBC) that quantifies the proportion of a given cell's neighbors sharing a specific label. This matrix helps capture the local structure of cell populations, reflecting how often cells with similar transcriptomic profiles are assigned the same discrete label. For this analysis, we will used the first 50 PCs to compute the k-nearest neighbor graph. The nodes of this graph will be colored by the cluster assignments derived from the Louvain community detection algorithm. \n",
    "\n",
    "The `compute_similarity=True` keyword argument summarizes the NBC into a cluster-by-cluster matrix.  In this matrix, each entry reflects the average proportion of neighbors within a given cluster that share the same label. This provides a high-level view of the local similarity between cells across different clusters, revealing how homogenous or heterogeneous the neighborhoods are within each cluster. The similarity matrix provides a more intuitive understanding of the relationships between clusters based on their shared neighborhood structure."
   ]
  },
  {
   "cell_type": "code",
   "execution_count": 4,
   "metadata": {},
   "outputs": [],
   "source": [
    "# Update `ad` in place\n",
    "calculate_concordex(\n",
    "    ad,\n",
    "    'louvain', \n",
    "    n_neighbors=30,\n",
    "    use_rep=\"X_pca\",\n",
    "    compute_similarity=True\n",
    ")"
   ]
  },
  {
   "cell_type": "markdown",
   "metadata": {},
   "source": [
    "The NBC is added to `ad.obsm['nbc']` and the similarity information can be found in `ad.uns['nbc_params']['similarity']`"
   ]
  },
  {
   "cell_type": "code",
   "execution_count": 5,
   "metadata": {},
   "outputs": [
    {
     "data": {
      "text/plain": [
       "AnnData object with n_obs × n_vars = 700 × 765\n",
       "    obs: 'bulk_labels', 'n_genes', 'percent_mito', 'n_counts', 'S_score', 'G2M_score', 'phase', 'louvain'\n",
       "    var: 'n_counts', 'means', 'dispersions', 'dispersions_norm', 'highly_variable'\n",
       "    uns: 'bulk_labels_colors', 'louvain', 'louvain_colors', 'neighbors', 'pca', 'rank_genes_groups', 'index_neighbors', 'nbc_params'\n",
       "    obsm: 'X_pca', 'X_umap', 'index', 'nbc'\n",
       "    varm: 'PCs'\n",
       "    obsp: 'distances', 'connectivities'"
      ]
     },
     "execution_count": 5,
     "metadata": {},
     "output_type": "execute_result"
    }
   ],
   "source": [
    "ad"
   ]
  },
  {
   "cell_type": "markdown",
   "metadata": {},
   "source": [
    "We can plot the similarity matrix simply. For evaluating cluster assignments, we would expect that cell neighborhoods tend to be homogenous. That is, more often than not, a cell and its neighbors will have the same label."
   ]
  },
  {
   "cell_type": "code",
   "execution_count": 6,
   "metadata": {},
   "outputs": [],
   "source": [
    "sim = ad.uns['nbc_params']['similarity']"
   ]
  },
  {
   "cell_type": "code",
   "execution_count": 7,
   "metadata": {},
   "outputs": [
    {
     "data": {
      "image/png": "[encoded data removed]",
      "text/plain": [
       "<Figure size 1000x1000 with 4 Axes>"
      ]
     },
     "metadata": {},
     "output_type": "display_data"
    }
   ],
   "source": [
    "# Make sure axes are properly labeled\n",
    "axlabs = ad.uns['nbc_params']['labelorder']\n",
    "cg = cg = sns.clustermap(\n",
    "    sim,\n",
    "    row_cluster=False,\n",
    "    col_cluster=False,\n",
    "    xticklabels=axlabs, yticklabels=axlabs\n",
    ")"
   ]
  },
  {
   "cell_type": "code",
   "execution_count": 8,
   "metadata": {},
   "outputs": [
    {
     "data": {
      "text/html": [
       "<details>\n",
       "<summary>Click to view session information</summary>\n",
       "<pre>\n",
       "-----\n",
       "anndata             0.10.9\n",
       "concordex           1.0.2\n",
       "numpy               2.0.2\n",
       "pandas              2.2.2\n",
       "scanpy              1.10.1\n",
       "seaborn             0.13.2\n",
       "session_info        1.0.0\n",
       "-----\n",
       "</pre>\n",
       "<details>\n",
       "<summary>Click to view modules imported as dependencies</summary>\n",
       "<pre>\n",
       "CoreFoundation              NA\n",
       "Foundation                  NA\n",
       "PIL                         10.4.0\n",
       "PyObjCTools                 NA\n",
       "anyio                       NA\n",
       "appnope                     0.1.4\n",
       "arrow                       1.3.0\n",
       "asttokens                   NA\n",
       "attr                        24.2.0\n",
       "attrs                       24.2.0\n",
       "babel                       2.14.0\n",
       "brotli                      1.1.0\n",
       "certifi                     2024.08.30\n",
       "cffi                        1.17.1\n",
       "charset_normalizer          3.3.2\n",
       "colorama                    0.4.6\n",
       "comm                        0.2.2\n",
       "cycler                      0.12.1\n",
       "cython_runtime              NA\n",
       "dateutil                    2.9.0\n",
       "debugpy                     1.8.5\n",
       "decorator                   5.1.1\n",
       "defusedxml                  0.7.1\n",
       "executing                   2.1.0\n",
       "fastjsonschema              NA\n",
       "fqdn                        NA\n",
       "h5py                        3.11.0\n",
       "idna                        3.8\n",
       "igraph                      0.11.6\n",
       "ipykernel                   6.29.5\n",
       "isoduration                 NA\n",
       "jedi                        0.19.1\n",
       "jinja2                      3.1.4\n",
       "joblib                      1.4.2\n",
       "json5                       0.9.25\n",
       "jsonpointer                 3.0.0\n",
       "jsonschema                  4.23.0\n",
       "jsonschema_specifications   NA\n",
       "jupyter_events              0.10.0\n",
       "jupyter_server              2.14.2\n",
       "jupyterlab_server           2.27.3\n",
       "kiwisolver                  1.4.7\n",
       "legacy_api_wrap             NA\n",
       "leidenalg                   0.10.2\n",
       "llvmlite                    0.43.0\n",
       "markupsafe                  2.1.5\n",
       "matplotlib                  3.9.2\n",
       "matplotlib_inline           0.1.7\n",
       "mpl_toolkits                NA\n",
       "natsort                     8.4.0\n",
       "nbformat                    5.10.4\n",
       "numba                       0.60.0\n",
       "objc                        10.3.1\n",
       "overrides                   NA\n",
       "packaging                   24.1\n",
       "parso                       0.8.4\n",
       "patsy                       0.5.6\n",
       "pexpect                     4.9.0\n",
       "pickleshare                 0.7.5\n",
       "platformdirs                4.3.2\n",
       "prometheus_client           NA\n",
       "prompt_toolkit              3.0.47\n",
       "psutil                      6.0.0\n",
       "ptyprocess                  0.7.0\n",
       "pure_eval                   0.2.3\n",
       "pydev_ipython               NA\n",
       "pydevconsole                NA\n",
       "pydevd                      2.9.5\n",
       "pydevd_file_utils           NA\n",
       "pydevd_plugins              NA\n",
       "pydevd_tracing              NA\n",
       "pygments                    2.18.0\n",
       "pyparsing                   3.1.4\n",
       "pythonjsonlogger            NA\n",
       "pytz                        2024.1\n",
       "referencing                 NA\n",
       "requests                    2.32.3\n",
       "rfc3339_validator           0.1.4\n",
       "rfc3986_validator           0.1.1\n",
       "rpds                        NA\n",
       "scipy                       1.14.1\n",
       "send2trash                  NA\n",
       "six                         1.16.0\n",
       "sklearn                     1.5.1\n",
       "sniffio                     1.3.1\n",
       "socks                       1.7.1\n",
       "stack_data                  0.6.2\n",
       "statsmodels                 0.14.2\n",
       "texttable                   1.7.0\n",
       "threadpoolctl               3.5.0\n",
       "tornado                     6.4.1\n",
       "traitlets                   5.14.3\n",
       "uri_template                NA\n",
       "urllib3                     2.2.2\n",
       "wcwidth                     0.2.13\n",
       "webcolors                   24.8.0\n",
       "websocket                   1.8.0\n",
       "yaml                        6.0.2\n",
       "zmq                         26.2.0\n",
       "zstandard                   0.23.0\n",
       "</pre>\n",
       "</details> <!-- seems like this ends pre, so might as well be explicit -->\n",
       "<pre>\n",
       "-----\n",
       "IPython             8.27.0\n",
       "jupyter_client      8.6.2\n",
       "jupyter_core        5.7.2\n",
       "jupyterlab          4.2.5\n",
       "-----\n",
       "Python 3.12.5 | packaged by conda-forge | (main, Aug  8 2024, 18:31:54) [Clang 16.0.6 ]\n",
       "macOS-15.1.1-x86_64-i386-64bit\n",
       "-----\n",
       "Session information updated at 2024-11-25 09:43\n",
       "</pre>\n",
       "</details>"
      ],
      "text/plain": [
       "<IPython.core.display.HTML object>"
      ]
     },
     "execution_count": 8,
     "metadata": {},
     "output_type": "execute_result"
    }
   ],
   "source": [
    "session_info.show()"
   ]
  },
  {
   "cell_type": "code",
   "execution_count": null,
   "metadata": {},
   "outputs": [],
   "source": []
  }
 ],
 "metadata": {
  "colab": {
   "authorship_tag": "ABX9TyPZmkptms3G6+WJ4RcIlU2N",
   "provenance": []
  },
  "interpreter": {
   "hash": "adaa19b3e1639a0b29506b5755c4bbe1fbe125a7ccca5eaffe8ceb5f98914033"
  },
  "kernelspec": {
   "display_name": "Python 3 (ipykernel)",
   "language": "python",
   "name": "python3"
  },
  "language_info": {
   "codemirror_mode": {
    "name": "ipython",
    "version": 3
   },
   "file_extension": ".py",
   "mimetype": "text/x-python",
   "name": "python",
   "nbconvert_exporter": "python",
   "pygments_lexer": "ipython3",
   "version": "3.12.5"
  }
 },
 "nbformat": 4,
 "nbformat_minor": 4
}
